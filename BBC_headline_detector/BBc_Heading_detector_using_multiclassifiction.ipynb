{
 "cells": [
  {
   "cell_type": "code",
   "execution_count": 2,
   "metadata": {
    "id": "_tUOeEoE0OSR"
   },
   "outputs": [],
   "source": [
    "import csv\n",
    "import tensorflow as tf\n",
    "import numpy as np\n",
    "import pandas as pd\n",
    "from tensorflow.keras.preprocessing.text import Tokenizer\n",
    "from tensorflow.keras.preprocessing.sequence import pad_sequences\n",
    "from nltk.corpus import stopwords"
   ]
  },
  {
   "cell_type": "code",
   "execution_count": 3,
   "metadata": {
    "colab": {
     "base_uri": "https://localhost:8080/"
    },
    "id": "9P7vDvXW6twx",
    "outputId": "e5cf3ed5-e288-479a-9300-7bbccfd04f11"
   },
   "outputs": [
    {
     "name": "stdout",
     "output_type": "stream",
     "text": [
      "1.26.0\n",
      "2.18.0\n"
     ]
    }
   ],
   "source": [
    "print(np.__version__)\n",
    "print(tf.__version__)"
   ]
  },
  {
   "cell_type": "markdown",
   "metadata": {
    "id": "3RkIxNb36xS8"
   },
   "source": [
    "# Set up stopwords"
   ]
  },
  {
   "cell_type": "code",
   "execution_count": 72,
   "metadata": {
    "id": "bAe9QTI31CU2"
   },
   "outputs": [],
   "source": [
    "STOPWORDS = set(stopwords.words('english'))"
   ]
  },
  {
   "cell_type": "code",
   "execution_count": 73,
   "metadata": {
    "id": "Cxh9s81f1Fhx"
   },
   "outputs": [],
   "source": [
    "vocab_size = 5000\n",
    "embedding_dim = 64\n",
    "max_length = 200\n",
    "trunc_type = 'post'\n",
    "padding_type = 'post'\n",
    "oov_tok = '<OOV>'\n",
    "training_portion = .8"
   ]
  },
  {
   "cell_type": "code",
   "execution_count": 74,
   "metadata": {
    "id": "9pvEHKR41Is6"
   },
   "outputs": [],
   "source": [
    "#create empty lists for articles and their corresponding labels\n",
    "articles = []\n",
    "labels = []"
   ]
  },
  {
   "cell_type": "markdown",
   "metadata": {
    "id": "H2aYJ13N67jN"
   },
   "source": [
    "#Read the BBC headline corpus"
   ]
  },
  {
   "cell_type": "code",
   "execution_count": 84,
   "metadata": {
    "colab": {
     "base_uri": "https://localhost:8080/"
    },
    "id": "bguk8XML65xn",
    "outputId": "a788758d-32ea-4ef0-930c-308a4a9bd2ca"
   },
   "outputs": [
    {
     "name": "stdout",
     "output_type": "stream",
     "text": [
      "Total no. of rows: 20380\n",
      "Field names are:Shark Tale DVD is US best-seller\n",
      "\n",
      "First 5 rows are:\n",
      "\n",
      "\n",
      "\n",
      "Oscar-nominated animation Shark Tale has raked in $80m (£42.4m) in the first week of its US DVD release becoming the year's best-selling home video so far. \n",
      "\n",
      "\n",
      "\n",
      "The tally for its DVD and video sales soared past the film's opening week US box office takings of $56m (£29.7m). Shark Tale is now the sixth-highest earning DVD for first week sales. The all-time first-week record is held by 1995's Lion King followed by Shrek 2  Finding Nemo  the original Shrek  and Monster's Inc. \n",
      "\n",
      "\n",
      "\n"
     ]
    }
   ],
   "source": [
    "# importing csv module\n",
    "import csv\n",
    "\n",
    "# csv file name\n",
    "filename = \"bbc-txt.csv\"\n",
    "\n",
    "# initializing the titles and rows list\n",
    "fields = []\n",
    "rows = []\n",
    "\n",
    "# reading csv file\n",
    "with open(filename, 'r') as csvfile:\n",
    "\t# creating a csv reader object\n",
    "\tcsvreader = csv.reader(csvfile)\n",
    "\n",
    "\t# extracting field names through first row\n",
    "\tfields = next(csvreader)\n",
    "\n",
    "\t# extracting each data row one by one\n",
    "\tfor row in csvreader:\n",
    "\t\trows.append(row)\n",
    "\n",
    "\t# get total number of rows\n",
    "\tprint(\"Total no. of rows: %d\"%(csvreader.line_num))\n",
    "\n",
    "# printing the field names\n",
    "print('Field names are:' + ', '.join(field for field in fields))\n",
    "\n",
    "# printing first 5 rows\n",
    "print('\\nFirst 5 rows are:\\n')\n",
    "for row in rows[:5]:\n",
    "\t# parsing each column of a row\n",
    "\tfor col in row:\n",
    "\t\tprint(\"%10s\"%col,end=\" \"),\n",
    "\tprint('\\n')"
   ]
  },
  {
   "cell_type": "code",
   "execution_count": 40,
   "metadata": {
    "colab": {
     "base_uri": "https://localhost:8080/"
    },
    "id": "RL1izPsk1K8n",
    "outputId": "6d6b2115-17c3-465b-ab3e-6ed8b8336ae1"
   },
   "outputs": [
    {
     "name": "stdout",
     "output_type": "stream",
     "text": [
      "Collecting patool==1.12\n",
      "  Downloading patool-1.12-py2.py3-none-any.whl.metadata (1.8 kB)\n",
      "Downloading patool-1.12-py2.py3-none-any.whl (77 kB)\n",
      "\u001b[?25l   \u001b[90m━━━━━━━━━━━━━━━━━━━━━━━━━━━━━━━━━━━━━━━━\u001b[0m \u001b[32m0.0/77.5 kB\u001b[0m \u001b[31m?\u001b[0m eta \u001b[36m-:--:--\u001b[0m\r",
      "\u001b[2K   \u001b[90m━━━━━━━━━━━━━━━━━━━━━━━━━━━━━━━━━━━━━━━━\u001b[0m \u001b[32m77.5/77.5 kB\u001b[0m \u001b[31m2.2 MB/s\u001b[0m eta \u001b[36m0:00:00\u001b[0m\n",
      "\u001b[?25hInstalling collected packages: patool\n",
      "Successfully installed patool-1.12\n"
     ]
    }
   ],
   "source": [
    "!pip install patool==1.12 # Install patool library for unzipping"
   ]
  },
  {
   "cell_type": "code",
   "execution_count": 86,
   "metadata": {
    "colab": {
     "base_uri": "https://localhost:8080/"
    },
    "id": "yZWdYVGFBMG8",
    "outputId": "cee4fee3-62b7-4d6b-ff08-f9fa44c746e4"
   },
   "outputs": [
    {
     "name": "stdout",
     "output_type": "stream",
     "text": [
      "Total number of articles: 2225\n",
      "Total number of labels: 2225\n"
     ]
    }
   ],
   "source": [
    "import csv\n",
    "import os # Import the os module\n",
    "\n",
    "bbc_dir = \"/content/bbc\"  # Path to the directory containing subfolders\n",
    "categories = [\"business\", \"entertainment\", \"politics\", \"sport\", \"tech\"]  # Subfolder names\n",
    "\n",
    "articles = []\n",
    "labels = []\n",
    "\n",
    "for category in categories:\n",
    "    category_path = os.path.join(bbc_dir, category)  # Path to the current category subfolder\n",
    "    for filename in os.listdir(category_path):\n",
    "        if filename.endswith(\".txt\"):  # Check if it's a text file\n",
    "            filepath = os.path.join(category_path, filename)  # Path to the text file\n",
    "            with open(filepath, 'r', encoding='utf-8', errors='ignore') as file:\n",
    "                content = file.read()\n",
    "                articles.append(content)  # Add the article content to the list\n",
    "                labels.append(category)  # Add the category label to the list\n",
    "\n",
    "print(f\"Total number of articles: {len(articles)}\")  # Print the total number of articles\n",
    "print(f\"Total number of labels: {len(labels)}\")  # Print the total number of labels"
   ]
  },
  {
   "cell_type": "code",
   "execution_count": 87,
   "metadata": {
    "colab": {
     "base_uri": "https://localhost:8080/"
    },
    "id": "duxkLeje1s9n",
    "outputId": "4f35cd6d-db4c-4f41-c7b6-6cbd490e5658"
   },
   "outputs": [
    {
     "name": "stdout",
     "output_type": "stream",
     "text": [
      "Total number of articles: 2225\n",
      "Total number of labels: 2225\n"
     ]
    }
   ],
   "source": [
    "import os\n",
    "\n",
    "# Directory containing the subfolders\n",
    "bbc_dir = \"/content/bbc\"\n",
    "\n",
    "# Subfolder names (categories)\n",
    "categories = [\"business\", \"entertainment\", \"politics\", \"sport\", \"tech\"]\n",
    "\n",
    "articles = []\n",
    "labels = []\n",
    "\n",
    "# Iterate through each category subfolder\n",
    "for category in categories:\n",
    "    category_path = os.path.join(bbc_dir, category)\n",
    "\n",
    "    # Iterate through each text file in the subfolder\n",
    "    for filename in os.listdir(category_path):\n",
    "        if filename.endswith(\".txt\"):  # Check if it's a text file\n",
    "            filepath = os.path.join(category_path, filename)\n",
    "\n",
    "            # Read the content of the text file\n",
    "            with open(filepath, 'r', encoding='utf-8', errors='ignore') as file:\n",
    "                content = file.read()\n",
    "                articles.append(content)\n",
    "                labels.append(category)\n",
    "\n",
    "print(f\"Total number of articles: {len(articles)}\")\n",
    "print(f\"Total number of labels: {len(labels)}\")"
   ]
  },
  {
   "cell_type": "code",
   "execution_count": 88,
   "metadata": {
    "colab": {
     "base_uri": "https://localhost:8080/"
    },
    "id": "FplJ3deS3Z3j",
    "outputId": "96b4c4c9-012b-4b34-fd80-9864ebefe18a"
   },
   "outputs": [
    {
     "name": "stdout",
     "output_type": "stream",
     "text": [
      "File ‘/content/bbc-fulltext.zip’ already there; not retrieving.\n",
      "\n"
     ]
    }
   ],
   "source": [
    "!wget -nc http://mlg.ucd.ie/files/datasets/bbc-fulltext.zip -P /content/"
   ]
  },
  {
   "cell_type": "code",
   "execution_count": 89,
   "metadata": {
    "colab": {
     "base_uri": "https://localhost:8080/"
    },
    "id": "M2fWwTP24BJj",
    "outputId": "7d2964b1-d259-4078-c021-f0f54bc1522b"
   },
   "outputs": [
    {
     "name": "stdout",
     "output_type": "stream",
     "text": [
      "Total number of articles: 2225\n",
      "Total number of labels: 2225\n"
     ]
    }
   ],
   "source": [
    "import os\n",
    "\n",
    "bbc_dir = \"/content/bbc\"\n",
    "categories = [\"business\", \"entertainment\", \"politics\", \"sport\", \"tech\"]\n",
    "\n",
    "articles = []\n",
    "labels = []\n",
    "\n",
    "for category in categories:\n",
    "    category_path = os.path.join(bbc_dir, category)\n",
    "    for filename in os.listdir(category_path):\n",
    "        if filename.endswith(\".txt\"):\n",
    "            filepath = os.path.join(category_path, filename)\n",
    "            with open(filepath, 'r', encoding='utf-8', errors='ignore') as file:\n",
    "                content = file.read()\n",
    "                articles.append(content)\n",
    "                labels.append(category)\n",
    "\n",
    "print(f\"Total number of articles: {len(articles)}\")\n",
    "print(f\"Total number of labels: {len(labels)}\")"
   ]
  },
  {
   "cell_type": "code",
   "execution_count": 90,
   "metadata": {
    "colab": {
     "base_uri": "https://localhost:8080/"
    },
    "id": "ThLSVVXP4RF_",
    "outputId": "5f44b4a1-f8b2-47d1-fade-440b67305be0"
   },
   "outputs": [
    {
     "name": "stdout",
     "output_type": "stream",
     "text": [
      "Total number of articles: 2225\n",
      "Total number of labels: 2225\n"
     ]
    }
   ],
   "source": [
    "# The following lines were causing the error, and should be removed\n",
    "# with open('bbc-text.csv', 'r') as csvfile:\n",
    "#     reader = csv.reader(csvfile, delimiter=',')\n",
    "#     next(reader)\n",
    "#     for row in reader:\n",
    "#         labels.append(row[0])\n",
    "#         article = row[1]\n",
    "#         for word in STOPWORDS:\n",
    "#             token = ' ' + word + ' '\n",
    "#             article = article.replace(token, ' ')\n",
    "#             article = article.replace(' ', ' ')\n",
    "#         articles.append(article)\n",
    "# print(len(labels))\n",
    "# print(len(articles))\n",
    "\n",
    "# Your existing code to load data from folders is correct and should remain:\n",
    "import os\n",
    "\n",
    "bbc_dir = \"/content/bbc\"\n",
    "categories = [\"business\", \"entertainment\", \"politics\", \"sport\", \"tech\"]\n",
    "\n",
    "articles = []\n",
    "labels = []\n",
    "\n",
    "for category in categories:\n",
    "    category_path = os.path.join(bbc_dir, category)\n",
    "    for filename in os.listdir(category_path):\n",
    "        if filename.endswith(\".txt\"):\n",
    "            filepath = os.path.join(category_path, filename)\n",
    "            with open(filepath, 'r', encoding='utf-8', errors='ignore') as file:\n",
    "                content = file.read()\n",
    "                articles.append(content)\n",
    "                labels.append(category)\n",
    "\n",
    "print(f\"Total number of articles: {len(articles)}\")\n",
    "print(f\"Total number of labels: {len(labels)}\")"
   ]
  },
  {
   "cell_type": "code",
   "execution_count": 91,
   "metadata": {
    "colab": {
     "base_uri": "https://localhost:8080/"
    },
    "id": "adrZ0aCw4etS",
    "outputId": "9cec36ec-80d6-42be-8498-c622d90fd142"
   },
   "outputs": [
    {
     "data": {
      "text/plain": [
       "['business', 'entertainment', 'politics', 'sport', 'tech']"
      ]
     },
     "execution_count": 91,
     "metadata": {},
     "output_type": "execute_result"
    }
   ],
   "source": [
    "sorted(set(labels))"
   ]
  },
  {
   "cell_type": "code",
   "execution_count": 92,
   "metadata": {
    "colab": {
     "base_uri": "https://localhost:8080/"
    },
    "id": "xb_JVvCM4yAc",
    "outputId": "7f0841cf-be26-46ee-a025-a2362a0c3b5d"
   },
   "outputs": [
    {
     "name": "stdout",
     "output_type": "stream",
     "text": [
      "1780\n",
      "1780\n",
      "1780\n",
      "445\n",
      "445\n"
     ]
    }
   ],
   "source": [
    "train_size = int(len(articles) * training_portion)\n",
    "\n",
    "train_articles = articles[:train_size]\n",
    "train_labels = labels[:train_size]\n",
    "\n",
    "validation_articles = articles[train_size:]\n",
    "validation_labels = labels[train_size:]\n",
    "\n",
    "\n",
    "print(train_size)\n",
    "print(len(train_articles))\n",
    "print(len(train_labels))\n",
    "print(len(validation_articles))\n",
    "print(len(validation_labels))"
   ]
  },
  {
   "cell_type": "code",
   "execution_count": 93,
   "metadata": {
    "id": "6XOOonnj42lb"
   },
   "outputs": [],
   "source": [
    "tokenizer = Tokenizer(num_words=vocab_size, oov_token=oov_tok)\n",
    "tokenizer.fit_on_texts(train_articles)\n",
    "word_index = tokenizer.word_index\n",
    "#dict(list(word_index.items())[:20])"
   ]
  },
  {
   "cell_type": "code",
   "execution_count": 94,
   "metadata": {
    "colab": {
     "base_uri": "https://localhost:8080/"
    },
    "id": "pl95YNWL47B5",
    "outputId": "3179f27c-716c-4d23-b89b-2878161fcd27"
   },
   "outputs": [
    {
     "name": "stdout",
     "output_type": "stream",
     "text": [
      "[4332, 1181, 8, 1175, 55, 3040, 880, 1, 4332, 18, 479, 2, 126, 7, 685, 1175, 24, 16, 26, 140, 1, 3615, 437, 319, 4, 41, 684, 585, 22, 4332, 5, 124, 8, 1828, 4772, 404, 610, 276, 45, 1166, 48, 926, 3, 111, 2, 88, 734, 374, 69, 2, 1175, 13, 76, 114, 605, 89, 3006, 2, 140, 1, 315, 44, 593, 513, 195, 44, 69, 1757, 4333, 22, 1968, 85, 46, 55, 2, 148, 3, 492, 102, 63, 36, 195, 57, 1175, 571, 477, 1761, 2020, 9, 112, 3, 2119, 26, 672, 8, 2, 892, 1137, 585, 105, 239, 63, 2020, 14, 2301, 54, 39, 15, 14, 1112, 942, 13, 34, 3880, 3294, 10, 26, 166, 124, 242, 22, 4332, 11, 1, 16, 471, 1851, 3, 95, 12, 72, 1809, 2, 2600, 4, 2, 169, 286, 196, 108, 180, 715, 124, 20, 226, 6, 367, 4, 3131, 2590, 7, 219, 758, 50, 25, 79, 4, 102, 1, 101, 2, 1175, 734, 1, 22, 70, 792, 1, 206, 7, 270, 5, 1326, 79, 4, 2, 1770, 3838, 1268, 20, 37, 222, 2149, 1, 1, 16, 4929, 4333, 1, 44, 69, 2, 2391, 4, 1421, 2109, 4332, 24, 527, 2109, 5, 1828, 404, 610, 276, 19, 2692, 17, 2, 685, 880, 652, 2, 1275, 3915, 256, 2109, 9, 403, 6, 890, 4, 242, 5, 2, 1275, 3915, 672, 1, 23, 2020, 12, 25, 1593, 8, 1175, 718, 4659, 1, 16, 128, 8, 46, 3, 108, 33, 363, 944, 4, 79, 4, 231, 2590, 402, 6, 367, 77, 397, 161, 72, 7, 892, 4332, 11, 2, 1360, 39, 186, 721, 301, 5, 2, 1175, 585, 14, 1, 1805, 15, 2, 287, 592, 3, 221, 48, 926, 125, 271, 4, 2, 3250, 13, 104, 21, 242, 89, 498, 8, 46, 3, 16, 1427, 23, 2, 1, 4, 384, 2, 1175, 5, 709, 89, 29, 92, 46, 55, 3040, 89, 2, 1142, 4, 2, 199, 4332, 721, 2, 1039, 4, 365, 1, 10, 26, 1111, 319, 4, 1828, 1506, 134, 38, 3015, 6, 890, 4, 237, 2042, 210, 1118, 1, 1276, 1, 7, 1434, 1, 22, 13, 721, 2, 767, 4, 2, 1859, 1, 4, 2, 276, 24, 154, 3, 1, 1528, 4, 2, 856, 2739, 129, 103, 57, 2, 133, 2075, 3915, 362, 1, 1, 90, 2, 1119, 28, 611, 1, 15, 14, 222, 63, 48, 926, 404, 142, 726, 180, 2, 55, 419, 1, 28, 611, 277, 1390, 12, 14, 732, 5, 2, 3503, 4, 2, 856, 22, 70, 2289, 1639, 55, 2, 1, 587, 10, 2, 211, 50, 25, 80, 141, 60, 12, 42, 1016, 25, 137, 1016, 7, 24, 16, 1016, 8, 6, 201, 65, 89, 92, 128, 3, 277, 31, 77, 95, 537, 1, 3, 294, 52, 2, 276, 24, 16, 3761, 10, 114, 51, 19, 1, 1294, 10, 574]\n"
     ]
    }
   ],
   "source": [
    "#check sequenced texts\n",
    "train_sequences = tokenizer.texts_to_sequences(train_articles)\n",
    "print(train_sequences[1779])"
   ]
  },
  {
   "cell_type": "code",
   "execution_count": 95,
   "metadata": {
    "id": "BrQOkDut4-LZ"
   },
   "outputs": [],
   "source": [
    "#Add padding to the squences to keep all the sentences similar in length and format\n",
    "train_padded = pad_sequences(train_sequences, maxlen=max_length, padding=padding_type, truncating=trunc_type)"
   ]
  },
  {
   "cell_type": "code",
   "execution_count": 96,
   "metadata": {
    "colab": {
     "base_uri": "https://localhost:8080/"
    },
    "id": "Mdm-DGlb5DJO",
    "outputId": "3e2a0ce1-ec72-4bb3-f7b0-2e5a63de5c52"
   },
   "outputs": [
    {
     "name": "stdout",
     "output_type": "stream",
     "text": [
      "361\n",
      "200\n",
      "199\n",
      "200\n",
      "189\n",
      "200\n"
     ]
    }
   ],
   "source": [
    "#check for difference between tokenized and tokenized + padded sequences\n",
    "print(len(train_sequences[0]))\n",
    "print(len(train_padded[0]))\n",
    "\n",
    "print(len(train_sequences[1]))\n",
    "print(len(train_padded[1]))\n",
    "\n",
    "print(len(train_sequences[10]))\n",
    "print(len(train_padded[10]))"
   ]
  },
  {
   "cell_type": "code",
   "execution_count": 97,
   "metadata": {
    "colab": {
     "base_uri": "https://localhost:8080/"
    },
    "id": "niO3PioU5GFx",
    "outputId": "34d2eaaf-d5d0-4c8f-a674-455c59535fc5"
   },
   "outputs": [
    {
     "name": "stdout",
     "output_type": "stream",
     "text": [
      "[3049, 799, 1, 517, 191, 1, 799, 1, 18, 530, 3, 647, 4553, 1, 975, 5, 3691, 1, 2028, 133, 727, 1, 8, 44, 3, 1, 1984, 598, 1, 3163, 1, 1, 4553, 1, 2, 2627, 1053, 2359, 4, 517, 1, 4553, 185, 18, 6, 51, 1321, 975, 5, 3691, 1, 2, 178, 1738, 1, 2, 628, 287, 1, 1134, 607, 566, 57, 2, 517, 1, 1, 1061, 52, 254, 1739, 5, 1299, 132, 1, 2297, 475, 1, 1, 1, 1, 7, 1, 15, 4006, 4346, 100, 60, 675, 1255, 5, 57, 484, 283, 561, 2, 1, 342, 7, 1295, 1, 2, 1, 338, 1, 11, 15, 34, 246, 1, 149, 4, 2, 1373, 266, 7, 1, 375, 4, 2, 1054, 1373, 266, 4, 3691, 1, 2, 178, 9, 159, 3, 16, 2029, 5, 2, 59, 340, 4, 233, 1, 14, 2942, 5, 1299, 132, 63, 1, 1, 1061, 2774, 1, 1, 3691, 1, 38, 4006, 375, 100, 921, 2252, 1, 5, 595, 517, 2705, 1, 1, 1, 1, 1, 1, 1, 7, 1, 50, 25, 45, 88, 1, 5, 2703, 5, 2, 2705, 4, 1, 1, 7, 1]\n",
      "[3049  799    1  517  191    1  799    1   18  530    3  647 4553    1\n",
      "  975    5 3691    1 2028  133  727    1    8   44    3    1 1984  598\n",
      "    1 3163    1    1 4553    1    2 2627 1053 2359    4  517    1 4553\n",
      "  185   18    6   51 1321  975    5 3691    1    2  178 1738    1    2\n",
      "  628  287    1 1134  607  566   57    2  517    1    1 1061   52  254\n",
      " 1739    5 1299  132    1 2297  475    1    1    1    1    7    1   15\n",
      " 4006 4346  100   60  675 1255    5   57  484  283  561    2    1  342\n",
      "    7 1295    1    2    1  338    1   11   15   34  246    1  149    4\n",
      "    2 1373  266    7    1  375    4    2 1054 1373  266    4 3691    1\n",
      "    2  178    9  159    3   16 2029    5    2   59  340    4  233    1\n",
      "   14 2942    5 1299  132   63    1    1 1061 2774    1    1 3691    1\n",
      "   38 4006  375  100  921 2252    1    5  595  517 2705    1    1    1\n",
      "    1    1    1    1    7    1   50   25   45   88    1    5 2703    5\n",
      "    2 2705    4    1    1    7    1    0    0    0    0    0    0    0\n",
      "    0    0    0    0]\n"
     ]
    }
   ],
   "source": [
    "print(train_sequences[10])\n",
    "print(train_padded[10])"
   ]
  },
  {
   "cell_type": "code",
   "execution_count": 98,
   "metadata": {
    "colab": {
     "base_uri": "https://localhost:8080/"
    },
    "id": "Jjz5LIGO5KuM",
    "outputId": "36074cbe-e2fa-4531-b575-ac41495a8586"
   },
   "outputs": [
    {
     "name": "stdout",
     "output_type": "stream",
     "text": [
      "445\n",
      "(445, 200)\n"
     ]
    }
   ],
   "source": [
    "#Tokenize and pad validation sequences too\n",
    "validation_sequences = tokenizer.texts_to_sequences(validation_articles)\n",
    "validation_padded = pad_sequences(validation_sequences, maxlen=max_length,\n",
    "                                  padding=padding_type, truncating=trunc_type)\n",
    "\n",
    "\n",
    "print(len(validation_sequences))\n",
    "print(validation_padded.shape)"
   ]
  },
  {
   "cell_type": "code",
   "execution_count": 99,
   "metadata": {
    "colab": {
     "base_uri": "https://localhost:8080/"
    },
    "id": "TI_Lx-ET5PFl",
    "outputId": "3ba4f9e8-e320-447b-b1ad-f0ee30e886b1"
   },
   "outputs": [
    {
     "name": "stdout",
     "output_type": "stream",
     "text": [
      "[2]\n",
      "[2]\n",
      "[2]\n",
      "(1780, 1)\n",
      "[1]\n",
      "[1]\n",
      "[1]\n",
      "(445, 1)\n"
     ]
    }
   ],
   "source": [
    "# Tokenizing the labbels\n",
    "label_tokenizer = Tokenizer()\n",
    "label_tokenizer.fit_on_texts(labels)\n",
    "\n",
    "training_label_seq = np.array(label_tokenizer.texts_to_sequences(train_labels))\n",
    "validation_label_seq = np.array(label_tokenizer.texts_to_sequences(validation_labels))\n",
    "\n",
    "print(training_label_seq[0])\n",
    "print(training_label_seq[1])\n",
    "print(training_label_seq[2])\n",
    "print(training_label_seq.shape)\n",
    "\n",
    "print(validation_label_seq[0])\n",
    "print(validation_label_seq[1])\n",
    "print(validation_label_seq[2])\n",
    "print(validation_label_seq.shape)"
   ]
  },
  {
   "cell_type": "markdown",
   "metadata": {
    "id": "uzUAD7yz5Xny"
   },
   "source": [
    "# Dictionary of tokenized data for decoding"
   ]
  },
  {
   "cell_type": "code",
   "execution_count": 100,
   "metadata": {
    "id": "6uQisoR65Scg"
   },
   "outputs": [],
   "source": [
    "rev_word_index = dict([(val, key) for (key,val) in word_index.items()])"
   ]
  },
  {
   "cell_type": "code",
   "execution_count": 101,
   "metadata": {
    "id": "U4N9U4Ap5aVm"
   },
   "outputs": [],
   "source": [
    "def decode_article(text):\n",
    "    return ' '.join([rev_word_index.get(i,'?') for i in text])"
   ]
  },
  {
   "cell_type": "code",
   "execution_count": 102,
   "metadata": {
    "colab": {
     "base_uri": "https://localhost:8080/"
    },
    "id": "z9EfrDX65cnh",
    "outputId": "7ab169e1-a0ba-4a8d-80fe-6ed7cb18287c"
   },
   "outputs": [
    {
     "name": "stdout",
     "output_type": "stream",
     "text": [
      "Beer giant swallows Russian firm\n",
      "\n",
      "Brewing giant Inbev has agreed to buy Alfa-Eco's stake in Sun Interbrew, Russia's second-largest brewer, for up to 259.7m euros ($353.3m; £183.75m).\n",
      "\n",
      "Alfa-Eco, the venture capital arm of Russian conglomerate Alfa Group, has a one-fifth stake in Sun Interbrew. The deal gives Inbev, the world's biggest beermaker, near-total control over the Russian brewer. Inbev bought out another partner in August 2004. Inbev brands include Bass, Stella Artois, Hoegaarden and Staropramen. It employs 77,000 people, running operations in over 30 countries across the Americas, Europe and Asia Pacific.\n",
      "\n",
      "The Leuven-based brewery said it would own 97.3% of the voting shares and 98.8% of the non-voting shares of Sun Interbrew. The deal is expected to be completed in the first quarter of 2005. Inbev was formed in August 2004 when Belgium's Interbrew bought Brazilian brewer Ambev. Sun Interbrew, which employs 8,000 staff, owns breweries in eight Russian cities - Klin, Ivanovo, Saransk, Kursk, Volzhsky, Omsk, Perm and Novocheboksarsk. There are also three breweries in Ukraine, in the cities of Chernigov, Nikolaev and Kharkov.\n",
      "\n",
      "=============================================================\n",
      "beer giant <OOV> russian firm <OOV> giant <OOV> has agreed to buy alfa <OOV> stake in sun <OOV> russia's second largest <OOV> for up to <OOV> 7m euros <OOV> 3m <OOV> <OOV> alfa <OOV> the venture capital arm of russian <OOV> alfa group has a one fifth stake in sun <OOV> the deal gives <OOV> the world's biggest <OOV> near total control over the russian <OOV> <OOV> bought out another partner in august 2004 <OOV> brands include <OOV> <OOV> <OOV> <OOV> and <OOV> it employs 77 000 people running operations in over 30 countries across the <OOV> europe and asia <OOV> the <OOV> based <OOV> said it would own <OOV> 3 of the voting shares and <OOV> 8 of the non voting shares of sun <OOV> the deal is expected to be completed in the first quarter of 2005 <OOV> was formed in august 2004 when <OOV> <OOV> bought brazilian <OOV> <OOV> sun <OOV> which employs 8 000 staff owns <OOV> in eight russian cities <OOV> <OOV> <OOV> <OOV> <OOV> <OOV> <OOV> and <OOV> there are also three <OOV> in ukraine in the cities of <OOV> <OOV> and <OOV> ? ? ? ? ? ? ? ? ? ? ?\n"
     ]
    }
   ],
   "source": [
    "#test the original and decoded text\n",
    "print(train_articles[10])\n",
    "print(\"=============================================================\")\n",
    "print(decode_article(train_padded[10]))"
   ]
  },
  {
   "cell_type": "markdown",
   "metadata": {
    "id": "nX9PtfyM5lP1"
   },
   "source": [
    "# Build a RNN for training the corpus"
   ]
  },
  {
   "cell_type": "code",
   "execution_count": 103,
   "metadata": {
    "id": "lXlOChN95e8T"
   },
   "outputs": [],
   "source": [
    "model = tf.keras.Sequential([\n",
    "    tf.keras.layers.Embedding(vocab_size, embedding_dim),\n",
    "    tf.keras.layers.Bidirectional(tf.keras.layers.LSTM(embedding_dim)),\n",
    "    tf.keras.layers.Dense(embedding_dim, activation='relu'),\n",
    "    tf.keras.layers.Dense(6, activation = 'softmax')\n",
    "])\n",
    "\n",
    "#"
   ]
  },
  {
   "cell_type": "code",
   "execution_count": 104,
   "metadata": {
    "colab": {
     "base_uri": "https://localhost:8080/",
     "height": 272
    },
    "id": "hpBxsLk65oDE",
    "outputId": "c8174e6b-3dd9-4a3a-871b-0e922af7aea0"
   },
   "outputs": [
    {
     "data": {
      "text/html": [
       "<pre style=\"white-space:pre;overflow-x:auto;line-height:normal;font-family:Menlo,'DejaVu Sans Mono',consolas,'Courier New',monospace\"><span style=\"font-weight: bold\">Model: \"sequential_1\"</span>\n",
       "</pre>\n"
      ],
      "text/plain": [
       "\u001b[1mModel: \"sequential_1\"\u001b[0m\n"
      ]
     },
     "metadata": {},
     "output_type": "display_data"
    },
    {
     "data": {
      "text/html": [
       "<pre style=\"white-space:pre;overflow-x:auto;line-height:normal;font-family:Menlo,'DejaVu Sans Mono',consolas,'Courier New',monospace\">┏━━━━━━━━━━━━━━━━━━━━━━━━━━━━━━━━━━━━━━┳━━━━━━━━━━━━━━━━━━━━━━━━━━━━━┳━━━━━━━━━━━━━━━━━┓\n",
       "┃<span style=\"font-weight: bold\"> Layer (type)                         </span>┃<span style=\"font-weight: bold\"> Output Shape                </span>┃<span style=\"font-weight: bold\">         Param # </span>┃\n",
       "┡━━━━━━━━━━━━━━━━━━━━━━━━━━━━━━━━━━━━━━╇━━━━━━━━━━━━━━━━━━━━━━━━━━━━━╇━━━━━━━━━━━━━━━━━┩\n",
       "│ embedding_1 (<span style=\"color: #0087ff; text-decoration-color: #0087ff\">Embedding</span>)              │ ?                           │     <span style=\"color: #00af00; text-decoration-color: #00af00\">0</span> (unbuilt) │\n",
       "├──────────────────────────────────────┼─────────────────────────────┼─────────────────┤\n",
       "│ bidirectional_1 (<span style=\"color: #0087ff; text-decoration-color: #0087ff\">Bidirectional</span>)      │ ?                           │     <span style=\"color: #00af00; text-decoration-color: #00af00\">0</span> (unbuilt) │\n",
       "├──────────────────────────────────────┼─────────────────────────────┼─────────────────┤\n",
       "│ dense_2 (<span style=\"color: #0087ff; text-decoration-color: #0087ff\">Dense</span>)                      │ ?                           │     <span style=\"color: #00af00; text-decoration-color: #00af00\">0</span> (unbuilt) │\n",
       "├──────────────────────────────────────┼─────────────────────────────┼─────────────────┤\n",
       "│ dense_3 (<span style=\"color: #0087ff; text-decoration-color: #0087ff\">Dense</span>)                      │ ?                           │     <span style=\"color: #00af00; text-decoration-color: #00af00\">0</span> (unbuilt) │\n",
       "└──────────────────────────────────────┴─────────────────────────────┴─────────────────┘\n",
       "</pre>\n"
      ],
      "text/plain": [
       "┏━━━━━━━━━━━━━━━━━━━━━━━━━━━━━━━━━━━━━━┳━━━━━━━━━━━━━━━━━━━━━━━━━━━━━┳━━━━━━━━━━━━━━━━━┓\n",
       "┃\u001b[1m \u001b[0m\u001b[1mLayer (type)                        \u001b[0m\u001b[1m \u001b[0m┃\u001b[1m \u001b[0m\u001b[1mOutput Shape               \u001b[0m\u001b[1m \u001b[0m┃\u001b[1m \u001b[0m\u001b[1m        Param #\u001b[0m\u001b[1m \u001b[0m┃\n",
       "┡━━━━━━━━━━━━━━━━━━━━━━━━━━━━━━━━━━━━━━╇━━━━━━━━━━━━━━━━━━━━━━━━━━━━━╇━━━━━━━━━━━━━━━━━┩\n",
       "│ embedding_1 (\u001b[38;5;33mEmbedding\u001b[0m)              │ ?                           │     \u001b[38;5;34m0\u001b[0m (unbuilt) │\n",
       "├──────────────────────────────────────┼─────────────────────────────┼─────────────────┤\n",
       "│ bidirectional_1 (\u001b[38;5;33mBidirectional\u001b[0m)      │ ?                           │     \u001b[38;5;34m0\u001b[0m (unbuilt) │\n",
       "├──────────────────────────────────────┼─────────────────────────────┼─────────────────┤\n",
       "│ dense_2 (\u001b[38;5;33mDense\u001b[0m)                      │ ?                           │     \u001b[38;5;34m0\u001b[0m (unbuilt) │\n",
       "├──────────────────────────────────────┼─────────────────────────────┼─────────────────┤\n",
       "│ dense_3 (\u001b[38;5;33mDense\u001b[0m)                      │ ?                           │     \u001b[38;5;34m0\u001b[0m (unbuilt) │\n",
       "└──────────────────────────────────────┴─────────────────────────────┴─────────────────┘\n"
      ]
     },
     "metadata": {},
     "output_type": "display_data"
    },
    {
     "data": {
      "text/html": [
       "<pre style=\"white-space:pre;overflow-x:auto;line-height:normal;font-family:Menlo,'DejaVu Sans Mono',consolas,'Courier New',monospace\"><span style=\"font-weight: bold\"> Total params: </span><span style=\"color: #00af00; text-decoration-color: #00af00\">0</span> (0.00 B)\n",
       "</pre>\n"
      ],
      "text/plain": [
       "\u001b[1m Total params: \u001b[0m\u001b[38;5;34m0\u001b[0m (0.00 B)\n"
      ]
     },
     "metadata": {},
     "output_type": "display_data"
    },
    {
     "data": {
      "text/html": [
       "<pre style=\"white-space:pre;overflow-x:auto;line-height:normal;font-family:Menlo,'DejaVu Sans Mono',consolas,'Courier New',monospace\"><span style=\"font-weight: bold\"> Trainable params: </span><span style=\"color: #00af00; text-decoration-color: #00af00\">0</span> (0.00 B)\n",
       "</pre>\n"
      ],
      "text/plain": [
       "\u001b[1m Trainable params: \u001b[0m\u001b[38;5;34m0\u001b[0m (0.00 B)\n"
      ]
     },
     "metadata": {},
     "output_type": "display_data"
    },
    {
     "data": {
      "text/html": [
       "<pre style=\"white-space:pre;overflow-x:auto;line-height:normal;font-family:Menlo,'DejaVu Sans Mono',consolas,'Courier New',monospace\"><span style=\"font-weight: bold\"> Non-trainable params: </span><span style=\"color: #00af00; text-decoration-color: #00af00\">0</span> (0.00 B)\n",
       "</pre>\n"
      ],
      "text/plain": [
       "\u001b[1m Non-trainable params: \u001b[0m\u001b[38;5;34m0\u001b[0m (0.00 B)\n"
      ]
     },
     "metadata": {},
     "output_type": "display_data"
    }
   ],
   "source": [
    "model.summary()"
   ]
  },
  {
   "cell_type": "code",
   "execution_count": 105,
   "metadata": {
    "colab": {
     "base_uri": "https://localhost:8080/"
    },
    "id": "GNztqr9u5qY2",
    "outputId": "eae01dde-6265-433f-cf29-500b6bddc8f0"
   },
   "outputs": [
    {
     "name": "stdout",
     "output_type": "stream",
     "text": [
      "Epoch 1/10\n",
      "56/56 - 18s - 315ms/step - accuracy: 0.2961 - loss: 1.4614 - val_accuracy: 0.0090 - val_loss: 6.1758\n",
      "Epoch 2/10\n",
      "56/56 - 13s - 224ms/step - accuracy: 0.7674 - loss: 0.7124 - val_accuracy: 0.0989 - val_loss: 7.8727\n",
      "Epoch 3/10\n",
      "56/56 - 20s - 351ms/step - accuracy: 0.9725 - loss: 0.1004 - val_accuracy: 0.0989 - val_loss: 9.1805\n",
      "Epoch 4/10\n",
      "56/56 - 21s - 380ms/step - accuracy: 0.9933 - loss: 0.0356 - val_accuracy: 0.0966 - val_loss: 9.8536\n",
      "Epoch 5/10\n",
      "56/56 - 13s - 224ms/step - accuracy: 0.9978 - loss: 0.0103 - val_accuracy: 0.0989 - val_loss: 11.6657\n",
      "Epoch 6/10\n",
      "56/56 - 19s - 342ms/step - accuracy: 1.0000 - loss: 0.0023 - val_accuracy: 0.0989 - val_loss: 10.8680\n",
      "Epoch 7/10\n",
      "56/56 - 22s - 387ms/step - accuracy: 1.0000 - loss: 9.1264e-04 - val_accuracy: 0.0989 - val_loss: 11.7438\n",
      "Epoch 8/10\n",
      "56/56 - 12s - 222ms/step - accuracy: 1.0000 - loss: 6.2708e-04 - val_accuracy: 0.0989 - val_loss: 12.1850\n",
      "Epoch 9/10\n",
      "56/56 - 19s - 336ms/step - accuracy: 1.0000 - loss: 4.9159e-04 - val_accuracy: 0.0989 - val_loss: 12.5134\n",
      "Epoch 10/10\n",
      "56/56 - 12s - 222ms/step - accuracy: 1.0000 - loss: 4.0257e-04 - val_accuracy: 0.0989 - val_loss: 12.7775\n"
     ]
    }
   ],
   "source": [
    "model.compile(loss='sparse_categorical_crossentropy', optimizer='adam', metrics=['accuracy'])\n",
    "num_epochs = 10\n",
    "history = model.fit(train_padded, training_label_seq, epochs=num_epochs, validation_data=(validation_padded, validation_label_seq), verbose=2)"
   ]
  },
  {
   "cell_type": "markdown",
   "metadata": {
    "id": "FnDAfeYD50g_"
   },
   "source": [
    "# Plotting Loss and Accuracy performances"
   ]
  },
  {
   "cell_type": "code",
   "execution_count": 106,
   "metadata": {
    "colab": {
     "base_uri": "https://localhost:8080/",
     "height": 881
    },
    "id": "TAC-UqDI5ugl",
    "outputId": "54b704c0-92e3-4b14-cd0c-f5996db86935"
   },
   "outputs": [
    {
     "data": {
      "image/png": "[encoded data removed]",
      "text/plain": [
       "<Figure size 640x480 with 1 Axes>"
      ]
     },
     "metadata": {},
     "output_type": "display_data"
    },
    {
     "data": {
      "image/png": "[encoded data removed]",
      "text/plain": [
       "<Figure size 640x480 with 1 Axes>"
      ]
     },
     "metadata": {},
     "output_type": "display_data"
    }
   ],
   "source": [
    "import matplotlib.pyplot as plt\n",
    "\n",
    "def plot_graphs(history, string):\n",
    "  plt.plot(history.history[string])\n",
    "  plt.plot(history.history['val_'+string])\n",
    "  plt.xlabel(\"Epochs\")\n",
    "  plt.ylabel(string)\n",
    "  plt.legend([string, 'val_'+string])\n",
    "  plt.show()\n",
    "\n",
    "plot_graphs(history, \"accuracy\")\n",
    "plot_graphs(history, \"loss\")"
   ]
  },
  {
   "cell_type": "markdown",
   "metadata": {
    "id": "ZV7aesUH59Gd"
   },
   "source": [
    "# Get Predictions!"
   ]
  },
  {
   "cell_type": "code",
   "execution_count": 107,
   "metadata": {
    "colab": {
     "base_uri": "https://localhost:8080/"
    },
    "id": "v086m7c253Qw",
    "outputId": "904c633e-afe4-4123-9e36-0fedecae12c0"
   },
   "outputs": [
    {
     "name": "stdout",
     "output_type": "stream",
     "text": [
      "\u001b[1m14/14\u001b[0m \u001b[32m━━━━━━━━━━━━━━━━━━━━\u001b[0m\u001b[37m\u001b[0m \u001b[1m1s\u001b[0m 72ms/step\n"
     ]
    }
   ],
   "source": [
    "results = model.predict(validation_padded)"
   ]
  },
  {
   "cell_type": "code",
   "execution_count": 108,
   "metadata": {
    "colab": {
     "base_uri": "https://localhost:8080/"
    },
    "id": "X4NkcNeB6Awc",
    "outputId": "e38cb473-916f-4fa0-8661-73f8788bcd26"
   },
   "outputs": [
    {
     "name": "stdout",
     "output_type": "stream",
     "text": [
      "Costin aims for comeback in 2006\n",
      "\n",
      "Jamie Costin should be paralysed.\n",
      "\n",
      "He says so himself in a matter-of-fact way as he recalls the car accident which occurred nine days before he was scheduled to step out into the Olympic Stadium in Athens for the 50K Walk. There is an ironic chuckle as he talks of his immediate thoughts after a lorry, driving on the wrong side of the road, had ploughed into his rental car. \"I was in a lot of pain and I guessed that one of my toes was broken,\" says the Waterford man. \"But I was thinking maybe with a cortisone injection you never know. \"In my back, it felt as though all the muscles had been ripped off my pelvis but I was thinking maybe we could do something with laser therapy and ultra sound and hopefully I'd be able to race.\" It took over 10 hours before Jamie knew with certainty that he would not be competing in his second Olympics. \"My back had been broken in two places and with one of my vertebrae, the bottom part had exploded so I'm fierce lucky not be paralysed. \"I'd fractured my big toe as well which was on the brake.\" Jamie didn't finally arrive at hospital in Athens until some nine and a half hours after the accident.\n",
      "\n",
      "\"For the first nine hours, I had no pain killers which was ridiculous in 35 degrees heat. \"But once I got the scans and saw them it was a case of moving on and thinking:'OK, I've got a different set of circumstances now'.\" Within three days he was arriving back in Ireland by air ambulance. Doctors in Athens had wanted to operate on Jamie's back immediately but he insisted on delaying any surgery until he arrived back home - something he is now very relieved about. \"The Greek doctors were going to put three or four inch titanium rods either side of my spinal cord up through my vertebrae. \"That would have fused all my lower back and I would never have been able to race again. They were really putting a lot of pressure on me to agree to the surgery. \"But when I got to the Mater in Dublin they said it was possible for it to heal totally naturally which is giving me the chance to get back into competition which is very important to me. The people at the Mater have been absolutely fantastic.\" Jamie had to wear a body cast for three and a half months after the accident and spent most of that time flat on his back.\n",
      "\n",
      "He then progressed to crutches for six weeks until he was finally able to walk unaided on 10 January. \"Walking without the crutches seemed like something finally really measurable in terms of my recovery.\" Physio sessions with Johnston McEvoy in Limerick have been a vital part of his recovery. \"Johnston uses an advanced type of acupuncture and it's very effective. \"Needles get put right close up to my spine. A two and a half inch needle went in yesterday and I'm fairly incapacitated today as a result.\" Jamie has also travelled to receive treatment at the Polish training centre in Spala where he has trained with triple Olympic champion Robert Korzeniowski over the past five years. \"I was there for over a fortnight earlier this month and underwent a fair extreme treatment called cryotherapy. \"Basically, there's a small room which is cooled by liquid nitrogen to minus 160 degrees centigrade and it promotes deep healing.\"\n",
      "\n",
      "Jamie heads to Poland again on Sunday where he will be having daily cryotherapy in addition to twice-daily physio sessions and pool-work. All these sessions are small steps on the way to what Jamie hopes will be a return to racing in 2006. \"It's all about trying to get mobility in my back. Lying down for three and a half months didn't really help with the strength. \"There's a lot of work involved in my recovery. I'm doing about six hours a day between physio and pool work. \"I'm also going to the gym to lift very light weights to try and build up my muscles. I'm fairly full on with everything I do. \"I'd hope to be training regularly by March. But training is just part of the process of getting back. \"At the moment, every time I go and do a big bit of movement, my whole pelvic area all down my lower back just tightens up. \"It's a case of waiting and seeing how it reacts. Hopefully, after four or five months my back won't tighten up as much.\"\n",
      "\n",
      "sport\n"
     ]
    }
   ],
   "source": [
    "print(validation_articles[0])\n",
    "print(validation_labels[0])"
   ]
  },
  {
   "cell_type": "markdown",
   "metadata": {
    "id": "yKXQjHjFCxJK"
   },
   "source": []
  },
  {
   "cell_type": "code",
   "execution_count": 109,
   "metadata": {
    "colab": {
     "base_uri": "https://localhost:8080/"
    },
    "id": "GXKjhuXp6DsY",
    "outputId": "fbd3b855-f2d0-45f2-9056-f10c00c1544f"
   },
   "outputs": [
    {
     "name": "stdout",
     "output_type": "stream",
     "text": [
      "[4.5706579e-06 9.9652058e-01 7.6334865e-05 2.9084738e-03 5.8449682e-06\n",
      " 4.8432374e-04]\n"
     ]
    }
   ],
   "source": [
    "print(results[0])"
   ]
  },
  {
   "cell_type": "code",
   "execution_count": 110,
   "metadata": {
    "colab": {
     "base_uri": "https://localhost:8080/"
    },
    "id": "uhGGemcI6HQe",
    "outputId": "5ed2bf80-35f0-4cae-b159-8a08fc819e85"
   },
   "outputs": [
    {
     "name": "stdout",
     "output_type": "stream",
     "text": [
      "business\n"
     ]
    }
   ],
   "source": [
    "abels = ['sport', 'bussiness', 'politics', 'tech', 'entertainment']\n",
    "print(labels[np.argmax(results[0]) - 1])"
   ]
  },
  {
   "cell_type": "code",
   "execution_count": 111,
   "metadata": {
    "id": "0YnYYXyh6KPE"
   },
   "outputs": [],
   "source": [
    "#Modularising the predict function\n",
    "def predict_category(val_index):\n",
    "    labels = ['sport', 'bussiness', 'politics', 'tech', 'entertainment']\n",
    "    model.predict(validation_padded[val_index])\n",
    "    print('Article:', validation_articles[val_index])\n",
    "    print('===========================================')\n",
    "    print('Label:', validation_labels[val_index])\n",
    "    print('===========================================')\n",
    "    print('Predicted Label:',labels[np.argmax(results[val_index]) - 1])\n"
   ]
  },
  {
   "cell_type": "code",
   "execution_count": 114,
   "metadata": {
    "id": "EMU0frSM6NUP"
   },
   "outputs": [],
   "source": [
    "#Modularising the predict function\n",
    "def predict_category(val_index):\n",
    "    labels = ['sport', 'bussiness', 'politics', 'tech', 'entertainment']\n",
    "    # The following line is modified to pass a batch of size 1\n",
    "    pred = model.predict(validation_padded[val_index:val_index+1])\n",
    "    print('Article:', validation_articles[val_index])\n",
    "    print('===========================================')\n",
    "    print('Label:', validation_labels[val_index])\n",
    "    print('===========================================')\n",
    "    print('Predicted Label:',labels[np.argmax(pred) - 1])"
   ]
  },
  {
   "cell_type": "code",
   "execution_count": 115,
   "metadata": {
    "colab": {
     "base_uri": "https://localhost:8080/"
    },
    "id": "EPYdYYylC-1P",
    "outputId": "c7d89f6e-5687-4aa0-80dd-0e93fc265fc5"
   },
   "outputs": [
    {
     "name": "stdout",
     "output_type": "stream",
     "text": [
      "\u001b[1m1/1\u001b[0m \u001b[32m━━━━━━━━━━━━━━━━━━━━\u001b[0m\u001b[37m\u001b[0m \u001b[1m0s\u001b[0m 52ms/step\n",
      "Article: Costin aims for comeback in 2006\n",
      "\n",
      "Jamie Costin should be paralysed.\n",
      "\n",
      "He says so himself in a matter-of-fact way as he recalls the car accident which occurred nine days before he was scheduled to step out into the Olympic Stadium in Athens for the 50K Walk. There is an ironic chuckle as he talks of his immediate thoughts after a lorry, driving on the wrong side of the road, had ploughed into his rental car. \"I was in a lot of pain and I guessed that one of my toes was broken,\" says the Waterford man. \"But I was thinking maybe with a cortisone injection you never know. \"In my back, it felt as though all the muscles had been ripped off my pelvis but I was thinking maybe we could do something with laser therapy and ultra sound and hopefully I'd be able to race.\" It took over 10 hours before Jamie knew with certainty that he would not be competing in his second Olympics. \"My back had been broken in two places and with one of my vertebrae, the bottom part had exploded so I'm fierce lucky not be paralysed. \"I'd fractured my big toe as well which was on the brake.\" Jamie didn't finally arrive at hospital in Athens until some nine and a half hours after the accident.\n",
      "\n",
      "\"For the first nine hours, I had no pain killers which was ridiculous in 35 degrees heat. \"But once I got the scans and saw them it was a case of moving on and thinking:'OK, I've got a different set of circumstances now'.\" Within three days he was arriving back in Ireland by air ambulance. Doctors in Athens had wanted to operate on Jamie's back immediately but he insisted on delaying any surgery until he arrived back home - something he is now very relieved about. \"The Greek doctors were going to put three or four inch titanium rods either side of my spinal cord up through my vertebrae. \"That would have fused all my lower back and I would never have been able to race again. They were really putting a lot of pressure on me to agree to the surgery. \"But when I got to the Mater in Dublin they said it was possible for it to heal totally naturally which is giving me the chance to get back into competition which is very important to me. The people at the Mater have been absolutely fantastic.\" Jamie had to wear a body cast for three and a half months after the accident and spent most of that time flat on his back.\n",
      "\n",
      "He then progressed to crutches for six weeks until he was finally able to walk unaided on 10 January. \"Walking without the crutches seemed like something finally really measurable in terms of my recovery.\" Physio sessions with Johnston McEvoy in Limerick have been a vital part of his recovery. \"Johnston uses an advanced type of acupuncture and it's very effective. \"Needles get put right close up to my spine. A two and a half inch needle went in yesterday and I'm fairly incapacitated today as a result.\" Jamie has also travelled to receive treatment at the Polish training centre in Spala where he has trained with triple Olympic champion Robert Korzeniowski over the past five years. \"I was there for over a fortnight earlier this month and underwent a fair extreme treatment called cryotherapy. \"Basically, there's a small room which is cooled by liquid nitrogen to minus 160 degrees centigrade and it promotes deep healing.\"\n",
      "\n",
      "Jamie heads to Poland again on Sunday where he will be having daily cryotherapy in addition to twice-daily physio sessions and pool-work. All these sessions are small steps on the way to what Jamie hopes will be a return to racing in 2006. \"It's all about trying to get mobility in my back. Lying down for three and a half months didn't really help with the strength. \"There's a lot of work involved in my recovery. I'm doing about six hours a day between physio and pool work. \"I'm also going to the gym to lift very light weights to try and build up my muscles. I'm fairly full on with everything I do. \"I'd hope to be training regularly by March. But training is just part of the process of getting back. \"At the moment, every time I go and do a big bit of movement, my whole pelvic area all down my lower back just tightens up. \"It's a case of waiting and seeing how it reacts. Hopefully, after four or five months my back won't tighten up as much.\"\n",
      "\n",
      "===========================================\n",
      "Label: sport\n",
      "===========================================\n",
      "Predicted Label: sport\n"
     ]
    }
   ],
   "source": [
    "predict_category(0)"
   ]
  },
  {
   "cell_type": "code",
   "execution_count": 116,
   "metadata": {
    "id": "EONS9yB86QuL"
   },
   "outputs": [],
   "source": [
    "def random_pred(random_article):\n",
    "    txt = [random_article]\n",
    "    seq = tokenizer.texts_to_sequences(txt)\n",
    "    padded = pad_sequences(seq, maxlen=max_length)\n",
    "    pred = model.predict(padded)\n",
    "    labels = ['sport', 'bussiness', 'politics', 'tech', 'entertainment']\n",
    "    print(labels[np.argmax(pred) - 1])"
   ]
  },
  {
   "cell_type": "code",
   "execution_count": 117,
   "metadata": {
    "colab": {
     "base_uri": "https://localhost:8080/"
    },
    "id": "nq7zhkQW6UIS",
    "outputId": "9d95a512-078c-4e4b-e0b3-5bd3958875da"
   },
   "outputs": [
    {
     "name": "stdout",
     "output_type": "stream",
     "text": [
      "\u001b[1m1/1\u001b[0m \u001b[32m━━━━━━━━━━━━━━━━━━━━\u001b[0m\u001b[37m\u001b[0m \u001b[1m0s\u001b[0m 52ms/step\n",
      "bussiness\n"
     ]
    }
   ],
   "source": [
    "random_art = 'cars pull down us retail figures us retail sales fell 0.3% in january  the biggest monthly decline since last august  driven down by a heavy fall in car sales.  the 3.3% fall in car sales had been expected  coming after december s 4% rise in car sales  fuelled by generous pre-christmas special offers. excluding the car sector  us retail sales were up 0.6% in january  twice what some analysts had been expecting. us retail spending is expected to rise in 2005  but not as quickly as in 2004.  steve gallagher  us chief economist at sg corporate & investment banking  said january s figures were  decent numbers .   we are not seeing the numbers that we saw in the second half of 2004  but they are still pretty healthy   he added. sales at appliance and electronic stores were down 0.6% in january  while sales at hardware stores dropped by 0.3% and furniture store sales dipped 0.1%. sales at clothing and clothing accessory stores jumped 1.8%  while sales at general merchandise stores  a category that includes department stores  rose by 0.9%. these strong gains were in part put down to consumers spending gift vouchers they had been given for christmas.  sales at restaurants  bars and coffee houses rose by 0.3%  while grocery store sales were up 0.5%. in december  overall retail sales rose by 1.1%. excluding the car sector  sales rose by just 0.3%. parul jain  deputy chief economist at nomura securities international  said consumer spending would continue to rise in 2005  only at a slower rate of growth than in 2004.  consumers continue to retain their strength in the first quarter   he said. van rourke  a bond strategist at popular securities  agreed that the latest retail sales figures were  slightly stronger than expected .'\n",
    "random_pred(random_art)"
   ]
  },
  {
   "cell_type": "code",
   "execution_count": 119,
   "metadata": {
    "colab": {
     "base_uri": "https://localhost:8080/"
    },
    "id": "_8i3pR9WDFG8",
    "outputId": "a80fab7f-60de-4183-f99b-257530906ef6"
   },
   "outputs": [
    {
     "name": "stdout",
     "output_type": "stream",
     "text": [
      "\u001b[1m1/1\u001b[0m \u001b[32m━━━━━━━━━━━━━━━━━━━━\u001b[0m\u001b[37m\u001b[0m \u001b[1m0s\u001b[0m 50ms/step\n",
      "sport\n"
     ]
    }
   ],
   "source": [
    "random_art1=\"Sports News Today: Get exclusive and latest Sports News Headlines, Live Score Updates, Live Cricket Scores, Football, Results and more with ProPakistani.\"\n",
    "random_pred(random_art1)"
   ]
  },
  {
   "cell_type": "code",
   "execution_count": 125,
   "metadata": {
    "colab": {
     "base_uri": "https://localhost:8080/"
    },
    "id": "iNcsBENOD3zk",
    "outputId": "db47921e-cf58-4171-92d3-756c99ba24a3"
   },
   "outputs": [
    {
     "name": "stdout",
     "output_type": "stream",
     "text": [
      "\u001b[1m1/1\u001b[0m \u001b[32m━━━━━━━━━━━━━━━━━━━━\u001b[0m\u001b[37m\u001b[0m \u001b[1m0s\u001b[0m 370ms/step\n",
      "sport\n"
     ]
    }
   ],
   "source": [
    "import joblib\n",
    "from tensorflow.keras.preprocessing.sequence import pad_sequences\n",
    "\n",
    "# 1. Load the model\n",
    "model = joblib.load('model.pkl')  # Make sure 'model.pkl' is in the same directory as your script\n",
    "\n",
    "# 2. Preprocess your input text\n",
    "def random_pred(random_article):\n",
    "    # Assuming you have the tokenizer loaded/defined\n",
    "    txt = [random_article]\n",
    "    seq = tokenizer.texts_to_sequences(txt)\n",
    "    padded = pad_sequences(seq, maxlen=200)  # Assuming max_length was 200 during training\n",
    "    pred = model.predict(padded)\n",
    "    labels = ['sport', 'bussiness', 'politics', 'tech', 'entertainment']\n",
    "    print(labels[np.argmax(pred) - 1])\n",
    "\n",
    "\n",
    "# 3. Make predictions\n",
    "random_art1 = \"Sports News Today: Get exclusive and latest Sports News Headlines, Live Score Updates, Live Cricket Scores, Football, Results and more with ProPakistani.\"\n",
    "random_pred(random_art1)"
   ]
  },
  {
   "cell_type": "code",
   "execution_count": 1,
   "metadata": {
    "id": "bQllzsrRESqc"
   },
   "outputs": [
    {
     "ename": "NameError",
     "evalue": "name 'model' is not defined",
     "output_type": "error",
     "traceback": [
      "\u001b[1;31m---------------------------------------------------------------------------\u001b[0m",
      "\u001b[1;31mNameError\u001b[0m                                 Traceback (most recent call last)",
      "Cell \u001b[1;32mIn[1], line 1\u001b[0m\n\u001b[1;32m----> 1\u001b[0m \u001b[43mmodel\u001b[49m\u001b[38;5;241m.\u001b[39msave(\u001b[38;5;124m\"\u001b[39m\u001b[38;5;124mnews_classifier\u001b[39m\u001b[38;5;124m\"\u001b[39m, save_format\u001b[38;5;241m=\u001b[39m\u001b[38;5;124m\"\u001b[39m\u001b[38;5;124mtf\u001b[39m\u001b[38;5;124m\"\u001b[39m)\n",
      "\u001b[1;31mNameError\u001b[0m: name 'model' is not defined"
     ]
    }
   ],
   "source": [
    "model.save(\"news_classifier\", save_format=\"tf\")"
   ]
  },
  {
   "cell_type": "code",
   "execution_count": null,
   "metadata": {},
   "outputs": [],
   "source": []
  }
 ],
 "metadata": {
  "colab": {
   "provenance": []
  },
  "kernelspec": {
   "display_name": "Python 3 (ipykernel)",
   "language": "python",
   "name": "python3"
  },
  "language_info": {
   "codemirror_mode": {
    "name": "ipython",
    "version": 3
   },
   "file_extension": ".py",
   "mimetype": "text/x-python",
   "name": "python",
   "nbconvert_exporter": "python",
   "pygments_lexer": "ipython3",
   "version": "3.12.3"
  }
 },
 "nbformat": 4,
 "nbformat_minor": 4
}
